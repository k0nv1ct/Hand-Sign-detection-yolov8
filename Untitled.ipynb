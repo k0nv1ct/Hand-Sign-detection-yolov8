{
 "cells": [
  {
   "cell_type": "code",
   "execution_count": null,
   "id": "df7c573e",
   "metadata": {},
   "outputs": [],
   "source": [
    "import ultralytics\n",
    "import torch"
   ]
  },
  {
   "cell_type": "code",
   "execution_count": null,
   "id": "dfd9cb2d",
   "metadata": {},
   "outputs": [],
   "source": [
    "from ultralytics import YOLO"
   ]
  },
  {
   "cell_type": "code",
   "execution_count": null,
   "id": "4fd8c4d8",
   "metadata": {},
   "outputs": [],
   "source": [
    "device = torch.device('cuda')"
   ]
  },
  {
   "cell_type": "code",
   "execution_count": null,
   "id": "7708502a",
   "metadata": {},
   "outputs": [],
   "source": [
    "yolo = YOLO('yolov8m.pt')\n",
    "#yolo = yolo.to(device) \n",
    "yolo.train(data='data.yaml', epochs=3, device = 0)\n",
    "valid_results = yolo.val()\n",
    "print(valid_results)"
   ]
  },
  {
   "cell_type": "code",
   "execution_count": null,
   "id": "02170bdf",
   "metadata": {},
   "outputs": [],
   "source": [
    "yolo = YOLO('best.pt')"
   ]
  },
  {
   "cell_type": "code",
   "execution_count": null,
   "id": "27acfc75",
   "metadata": {},
   "outputs": [],
   "source": [
    "yolo.predict(source = \"0\", show = True)"
   ]
  },
  {
   "cell_type": "code",
   "execution_count": null,
   "id": "d6cd8d75",
   "metadata": {},
   "outputs": [],
   "source": []
  },
  {
   "cell_type": "code",
   "execution_count": null,
   "id": "24236fb7",
   "metadata": {},
   "outputs": [],
   "source": []
  }
 ],
 "metadata": {
  "kernelspec": {
   "display_name": "Python 3 (ipykernel)",
   "language": "python",
   "name": "python3"
  },
  "language_info": {
   "codemirror_mode": {
    "name": "ipython",
    "version": 3
   },
   "file_extension": ".py",
   "mimetype": "text/x-python",
   "name": "python",
   "nbconvert_exporter": "python",
   "pygments_lexer": "ipython3",
   "version": "3.9.12"
  }
 },
 "nbformat": 4,
 "nbformat_minor": 5
}
